{
 "cells": [
  {
   "cell_type": "markdown",
   "metadata": {},
   "source": [
    "## Implementation of FOLD algorithm"
   ]
  },
  {
   "cell_type": "markdown",
   "metadata": {},
   "source": [
    "### Charuta Pethe\n",
    "### CSE 505 Fall 2017\n",
    "### Stony Brook University"
   ]
  },
  {
   "cell_type": "markdown",
   "metadata": {},
   "source": [
    "#### Initial imports, definitions and declarations"
   ]
  },
  {
   "cell_type": "code",
   "execution_count": 1,
   "metadata": {
    "collapsed": true
   },
   "outputs": [],
   "source": [
    "from ast import literal_eval\n",
    "import numpy as np\n",
    "global ab_count\n",
    "global goal\n",
    "global abnormalRules"
   ]
  },
  {
   "cell_type": "code",
   "execution_count": 2,
   "metadata": {
    "collapsed": true
   },
   "outputs": [],
   "source": [
    "class Rule():\n",
    "    def __init__(self, head_arg, body_arg):\n",
    "        self.head = head_arg\n",
    "        self.body = body_arg\n",
    "\n",
    "class Fact():\n",
    "    def __init__(self, predicate_arg, parameter_arg):\n",
    "        self.predicate = predicate_arg\n",
    "        self.parameter = parameter_arg\n",
    "        \n",
    "class BackgroundKnowledge():\n",
    "    def __init__(self, rules_arg, facts_arg):\n",
    "        self.rules = rules_arg\n",
    "        self.facts = facts_arg"
   ]
  },
  {
   "cell_type": "markdown",
   "metadata": {},
   "source": [
    "#### Function which generates and returns the next abnormal predicate"
   ]
  },
  {
   "cell_type": "code",
   "execution_count": 3,
   "metadata": {
    "collapsed": true
   },
   "outputs": [],
   "source": [
    "def generate_next_ab_predicate():\n",
    "    global ab_count\n",
    "    temp = ab_count\n",
    "    ab_count = ab_count + 1\n",
    "    return \"ab\" + str(temp)"
   ]
  },
  {
   "cell_type": "markdown",
   "metadata": {},
   "source": [
    "#### Function to generate a predicate with a list of all examples as a string"
   ]
  },
  {
   "cell_type": "code",
   "execution_count": 4,
   "metadata": {
    "collapsed": true
   },
   "outputs": [],
   "source": [
    "def enumerate_function(c, examples):\n",
    "    newRule = Rule(head_arg = c.head, body_arg = [str(examples)])\n",
    "    return newRule"
   ]
  },
  {
   "cell_type": "markdown",
   "metadata": {},
   "source": [
    "#### Function to check whether a constant is a member of an enumerated clause"
   ]
  },
  {
   "cell_type": "code",
   "execution_count": 5,
   "metadata": {
    "collapsed": true
   },
   "outputs": [],
   "source": [
    "def checkmember(example, clause):\n",
    "    list_clause = literal_eval(clause)\n",
    "    if example in list_clause:\n",
    "        return True\n",
    "    return False"
   ]
  },
  {
   "cell_type": "markdown",
   "metadata": {},
   "source": [
    "#### Function to retuen a subset of the examples covered by the rule, given the background knowledge"
   ]
  },
  {
   "cell_type": "code",
   "execution_count": 6,
   "metadata": {
    "collapsed": true
   },
   "outputs": [],
   "source": [
    "def coversHelper(rule, example, bk):\n",
    "    \n",
    "    for clause in rule.body:\n",
    "        \n",
    "        # for member check\n",
    "        if clause[0] == '-' and clause[1] == '[':\n",
    "            # if checkmember(example, clause[1:]) is True, return False, else continue\n",
    "            if checkmember(example, clause[1:]) == True:\n",
    "                return False\n",
    "            continue\n",
    "        if clause[0] == '[':\n",
    "            # if checkmember(example, clause) is False, return False, else continue\n",
    "            if checkmember(example, clause) == False:\n",
    "                return False\n",
    "            continue\n",
    "        \n",
    "        # for normal clauses\n",
    "        if clause[0] != '-':\n",
    "            for fact in bk.facts:\n",
    "                flag = False\n",
    "                if fact.predicate == clause and fact.parameter == example:\n",
    "                    flag = True\n",
    "                    break\n",
    "            if(flag == True): # Clause is satisfied by making use of facts in database\n",
    "                continue\n",
    "            for r in bk.rules:\n",
    "                flag = False\n",
    "                if r.head == clause and coversHelper(r, example, bk): # clause is satisfied by making use of a rule\n",
    "                    flag = True\n",
    "                    break\n",
    "            if flag == True:\n",
    "                continue\n",
    "            # If execution reaches here, clause could not be satisfied\n",
    "            return False\n",
    "        \n",
    "        # for negated clauses\n",
    "        else:\n",
    "            #clause[0] == '-': - the rule is a negation\n",
    "            clause = clause[1:]\n",
    "            for fact in bk.facts:\n",
    "                if fact.predicate == clause and fact.parameter == example:\n",
    "                    return False\n",
    "            for r in bk.rules:\n",
    "                if r.head == clause and coversHelper(r, example, bk):\n",
    "                    return False\n",
    "            # If execution reaches here, clause could not be satisfied\n",
    "            return True\n",
    "    # If execution reaches here, the for loop ended, i.e. all clauses could be satisfied\n",
    "    return True\n",
    "\n",
    "\n",
    "def covers(c_hat, examples, bk):\n",
    "    newExamples = list()\n",
    "    for ex in examples:\n",
    "        # if c_hat covers ex given bk, add it to newExamples\n",
    "        if coversHelper(c_hat, ex, bk):\n",
    "            newExamples.append(ex)\n",
    "    return newExamples"
   ]
  },
  {
   "cell_type": "markdown",
   "metadata": {},
   "source": [
    "#### Function to select best literal from predicates, add it to the rule and return the new rule"
   ]
  },
  {
   "cell_type": "code",
   "execution_count": 7,
   "metadata": {
    "collapsed": true
   },
   "outputs": [],
   "source": [
    "def addBestLiteral(c, positiveExamples, negativeExamples, predicates, bk):\n",
    "    \n",
    "    rules = dict()\n",
    "    IGs = dict()\n",
    "    \n",
    "    for pred in predicates:\n",
    "        \n",
    "        p0 = len(covers(c, positiveExamples, bk))\n",
    "        n0 = len(covers(c, negativeExamples, bk))\n",
    "        \n",
    "        tempBody = list(c.body)\n",
    "        tempBody.append(pred)\n",
    "        tempRule = Rule(head_arg = c.head, body_arg = tempBody)\n",
    "        tempPositive = covers(tempRule, positiveExamples, bk)\n",
    "        tempNegative = covers(tempRule, negativeExamples, bk)\n",
    "        \n",
    "        p1 = len(tempPositive)\n",
    "        n1 = len(tempNegative)\n",
    "        \n",
    "        t = 0\n",
    "        for elem in positiveExamples:\n",
    "            if elem in tempPositive:\n",
    "                t = t + 1\n",
    "        \n",
    "        if p1 == 0 or p0 == 0:\n",
    "            continue\n",
    "        \n",
    "        IG = float(t) * (np.log2(float(p1) / (float(p1) + float(n1))) - np.log2(float(p0) / (float(p0) + float(n0))))\n",
    "        \n",
    "        if IG < 0:\n",
    "            continue\n",
    "        \n",
    "        rules[pred] = tempRule\n",
    "        IGs[pred] = IG\n",
    "    \n",
    "    if len(IGs.keys()) == 0:\n",
    "        return 0, 0\n",
    "    \n",
    "    # select predicate with best IG and return\n",
    "    best_pred = max(IGs.items(), key=lambda x: x[1])\n",
    "    \n",
    "    return rules[best_pred[0]], IGs[best_pred[0]]"
   ]
  },
  {
   "cell_type": "markdown",
   "metadata": {},
   "source": [
    "#### Exception function defined in the algorithm"
   ]
  },
  {
   "cell_type": "code",
   "execution_count": 8,
   "metadata": {
    "collapsed": true
   },
   "outputs": [],
   "source": [
    "def exception(c, positiveExamples, negativeExamples, predicates_arg, bk):\n",
    "    global abnormalRules\n",
    "    predicates = list(predicates_arg)\n",
    "    c_def, IG = addBestLiteral(c, positiveExamples, negativeExamples, predicates, bk)\n",
    "    if(c_def != 0):\n",
    "        # c_set is the set of default clauses returned by FOLD\n",
    "        c_set = FOLD(positiveExamples, negativeExamples, predicates, bk)[0]\n",
    "        # c_ab is a string - the next abnormal predicate\n",
    "        c_ab = generate_next_ab_predicate()\n",
    "        for c_var in c_set:\n",
    "            tempRule = Rule(head_arg = c_ab, body_arg = c_var.body)\n",
    "            abnormalRules.append(tempRule)\n",
    "        tempBody = list(c.body)\n",
    "        tempBody.append(\"-\" + c_ab)\n",
    "        c_hat = Rule(head_arg = c_def.head, body_arg = tempBody)\n",
    "    else:\n",
    "        c_hat = 0\n",
    "    return c_hat"
   ]
  },
  {
   "cell_type": "markdown",
   "metadata": {},
   "source": [
    "#### Specialize function defined in the algorithm"
   ]
  },
  {
   "cell_type": "code",
   "execution_count": 9,
   "metadata": {
    "collapsed": true
   },
   "outputs": [],
   "source": [
    "def specialize(c, positiveExamples, negativeExamples, predicates_arg, bk):\n",
    "    predicates = list(predicates_arg)\n",
    "    c_hat = c\n",
    "    just_started = True\n",
    "    while True:\n",
    "        c_def, IG = addBestLiteral(c_hat, positiveExamples, negativeExamples, predicates, bk)\n",
    "        if c_def != 0:\n",
    "            c_hat = c_def\n",
    "            predicates.remove(c_hat.body[0])\n",
    "        elif just_started:\n",
    "            c_hat = enumerate_function(c, positiveExamples)\n",
    "        else:\n",
    "            c_hat = exception(c_hat, negativeExamples, positiveExamples, predicates, bk)\n",
    "            if c_hat == 0:\n",
    "                c_hat = enumerate_function(c, positiveExamples)\n",
    "        just_started = False\n",
    "        for elem in abnormalRules:\n",
    "            flag = False\n",
    "            for r in bk.rules:\n",
    "                if elem.head == r.head and elem.body == r.body:\n",
    "                    flag = True\n",
    "                    break\n",
    "            if flag == False:\n",
    "                bk.rules.append(elem)\n",
    "        temp = covers(c_hat, positiveExamples, bk)\n",
    "        # select the examples that are there in positiveExamples but not in temp\n",
    "        newPositiveExamples = list()\n",
    "        for elem in positiveExamples:\n",
    "            if elem not in temp:\n",
    "                newPositiveExamples.append(elem)\n",
    "        # update positiveExamples\n",
    "        positiveExamples = list(newPositiveExamples)\n",
    "        # update negativeExamples\n",
    "        negativeExamples = covers(c_hat, negativeExamples, bk)\n",
    "        if len(negativeExamples) == 0:\n",
    "            break\n",
    "    return c_hat"
   ]
  },
  {
   "cell_type": "markdown",
   "metadata": {},
   "source": [
    "#### Function to implement FOLD algorithm"
   ]
  },
  {
   "cell_type": "code",
   "execution_count": 10,
   "metadata": {
    "collapsed": true
   },
   "outputs": [],
   "source": [
    "def FOLD(positiveExamples, negativeExamples, predicates_arg, bk):\n",
    "    global goal\n",
    "    global abnormalRules\n",
    "    predicates = list(predicates_arg)\n",
    "    defaultRules = []\n",
    "    while(len(positiveExamples) > 0):\n",
    "        c = Rule(head_arg = goal, body_arg = [])\n",
    "        c_hat = specialize(c, positiveExamples, negativeExamples, predicates, bk)\n",
    "        temp = covers(c_hat, positiveExamples, bk)\n",
    "        newPositiveExamples = list()\n",
    "        for elem in positiveExamples:\n",
    "            if elem not in temp:\n",
    "                newPositiveExamples.append(elem)\n",
    "        positiveExamples = list(newPositiveExamples)\n",
    "        defaultRules.append(c_hat)\n",
    "        for r in defaultRules:\n",
    "            for elem in r.body:\n",
    "                if elem in predicates:\n",
    "                    predicates.remove(elem)\n",
    "            flag = False\n",
    "            for elem in bk.rules:\n",
    "                if r.head == elem.head and r.body == elem.body:\n",
    "                    flag = True\n",
    "                    break\n",
    "            if flag == False:\n",
    "                bk.rules.append(r)\n",
    "        for r in abnormalRules:\n",
    "            flag = False\n",
    "            for elem in bk.rules:\n",
    "                if r.head == elem.head and r.body == elem.body:\n",
    "                    flag = True\n",
    "                    break\n",
    "            if flag == False:\n",
    "                bk.rules.append(r)\n",
    "    return defaultRules, abnormalRules"
   ]
  },
  {
   "cell_type": "markdown",
   "metadata": {},
   "source": [
    "#### Function to print the result"
   ]
  },
  {
   "cell_type": "code",
   "execution_count": 11,
   "metadata": {
    "collapsed": true
   },
   "outputs": [],
   "source": [
    "def prettyprint(result):\n",
    "    for elem in result:\n",
    "        for elem2 in elem:\n",
    "            print elem2.head + \"(X)\" + \" <-\",\n",
    "            for i in range(len(elem2.body)):\n",
    "                elem3 = elem2.body[i]\n",
    "\n",
    "                if elem3[0] == '-':\n",
    "                    print \"not\",\n",
    "                    elem3 = elem3[1:]\n",
    "\n",
    "                if elem3[0] == '[':\n",
    "                    print \"member(X,\", elem3, \"\\b)\"\n",
    "                    continue\n",
    "\n",
    "                print elem3 + \"(X)\",\n",
    "                if i == len(elem2.body) - 1:\n",
    "                    print \"\"\n",
    "                else:\n",
    "                    print \",\","
   ]
  },
  {
   "cell_type": "markdown",
   "metadata": {},
   "source": [
    "# Testing"
   ]
  },
  {
   "cell_type": "markdown",
   "metadata": {},
   "source": [
    "## Example 1 - All birds except penguins can fly"
   ]
  },
  {
   "cell_type": "code",
   "execution_count": 12,
   "metadata": {},
   "outputs": [
    {
     "name": "stdout",
     "output_type": "stream",
     "text": [
      "fly(X) <- bird(X) , not ab0(X) \n",
      "ab0(X) <- penguin(X) \n"
     ]
    }
   ],
   "source": [
    "rule1 = Rule(head_arg = \"bird\", body_arg = [\"penguin\"])\n",
    "rules = [rule1]\n",
    "\n",
    "fact1 = Fact(predicate_arg = \"bird\", parameter_arg = \"tweety\")\n",
    "fact2 = Fact(predicate_arg = \"bird\", parameter_arg = \"et\")\n",
    "fact3 = Fact(predicate_arg = \"cat\", parameter_arg = \"kitty\")\n",
    "fact4 = Fact(predicate_arg = \"penguin\", parameter_arg = \"polly\")\n",
    "\n",
    "facts = [fact1, fact2, fact3, fact4]\n",
    "\n",
    "bk = BackgroundKnowledge(rules_arg = rules, facts_arg = facts)\n",
    "goal = \"fly\"\n",
    "positiveExamples = [\"tweety\", \"et\"]\n",
    "negativeExamples = [\"kitty\", \"polly\"]\n",
    "\n",
    "predicateList = [\"bird\", \"cat\", \"penguin\"]\n",
    "\n",
    "ab_count = 0\n",
    "abnormalRules = []\n",
    "result = FOLD(positiveExamples, negativeExamples, predicateList, bk)\n",
    "\n",
    "prettyprint(result)"
   ]
  },
  {
   "cell_type": "markdown",
   "metadata": {},
   "source": [
    "### The intuitive set of rules is that all birds except penguins can fly. The output of the algorithm matches this intuitive set of rules."
   ]
  },
  {
   "cell_type": "markdown",
   "metadata": {},
   "source": [
    "## Example 2 - Enumeration"
   ]
  },
  {
   "cell_type": "code",
   "execution_count": 13,
   "metadata": {},
   "outputs": [
    {
     "name": "stdout",
     "output_type": "stream",
     "text": [
      "fly(X) <- bird(X) , not ab0(X) \n",
      "fly(X) <- member(X, ['jet'] \b)\n",
      "ab0(X) <- penguin(X) \n"
     ]
    }
   ],
   "source": [
    "rule1 = Rule(head_arg = \"bird\", body_arg = [\"penguin\"])\n",
    "rules = [rule1]\n",
    "\n",
    "fact1 = Fact(predicate_arg = \"bird\", parameter_arg = \"tweety\")\n",
    "fact2 = Fact(predicate_arg = \"bird\", parameter_arg = \"et\")\n",
    "fact3 = Fact(predicate_arg = \"cat\", parameter_arg = \"kitty\")\n",
    "fact4 = Fact(predicate_arg = \"penguin\", parameter_arg = \"polly\")\n",
    "\n",
    "facts = [fact1, fact2, fact3, fact4]\n",
    "\n",
    "bk = BackgroundKnowledge(rules_arg = rules, facts_arg = facts)\n",
    "goal = \"fly\"\n",
    "positiveExamples = [\"tweety\", \"et\", \"jet\"]\n",
    "negativeExamples = [\"kitty\", \"polly\"]\n",
    "\n",
    "predicateList = [\"bird\", \"cat\", \"penguin\"]\n",
    "\n",
    "ab_count = 0\n",
    "abnormalRules = []\n",
    "result = FOLD(positiveExamples, negativeExamples, predicateList, bk)\n",
    "\n",
    "prettyprint(result)"
   ]
  },
  {
   "cell_type": "markdown",
   "metadata": {},
   "source": [
    "### The intuitive set of rules is that all birds except penguins can fly, and that a jet can fly. The output of the algorithm matches this intuitive set of rules."
   ]
  },
  {
   "cell_type": "markdown",
   "metadata": {},
   "source": [
    "## Example 3 - Two rules and nested exception"
   ]
  },
  {
   "cell_type": "code",
   "execution_count": 14,
   "metadata": {},
   "outputs": [
    {
     "name": "stdout",
     "output_type": "stream",
     "text": [
      "fly(X) <- superpenguin(X) \n",
      "fly(X) <- plane(X) , not ab0(X) \n",
      "fly(X) <- bird(X) , not ab1(X) \n",
      "ab0(X) <- damaged(X) \n",
      "ab1(X) <- penguin(X) \n"
     ]
    }
   ],
   "source": [
    "rule1 = Rule(head_arg = \"bird\", body_arg = [\"penguin\"])\n",
    "rule2 = Rule(head_arg = \"penguin\", body_arg = [\"superpenguin\"])\n",
    "rules = [rule1, rule2]\n",
    "\n",
    "fact1 = Fact(predicate_arg = \"bird\", parameter_arg = \"a\")\n",
    "fact2 = Fact(predicate_arg = \"bird\", parameter_arg = \"b\")\n",
    "fact3 = Fact(predicate_arg = \"penguin\", parameter_arg = \"c\")\n",
    "fact4 = Fact(predicate_arg = \"penguin\", parameter_arg = \"d\")\n",
    "fact5 = Fact(predicate_arg = \"superpenguin\", parameter_arg = \"e\")\n",
    "fact6 = Fact(predicate_arg = \"superpenguin\", parameter_arg = \"f\")\n",
    "fact7 = Fact(predicate_arg = \"cat\", parameter_arg = \"c1\")\n",
    "fact8 = Fact(predicate_arg = \"plane\", parameter_arg = \"g\")\n",
    "fact9 = Fact(predicate_arg = \"plane\", parameter_arg = \"h\")\n",
    "fact10 = Fact(predicate_arg = \"plane\", parameter_arg = \"k\")\n",
    "fact11 = Fact(predicate_arg = \"plane\", parameter_arg = \"m\")\n",
    "fact12 = Fact(predicate_arg = \"damaged\", parameter_arg = \"k\")\n",
    "fact13 = Fact(predicate_arg = \"damaged\", parameter_arg = \"m\")\n",
    "\n",
    "facts = [fact1, fact2, fact3, fact4, fact5, fact6, fact7, fact8, fact9, fact10, fact11, fact12, fact13]\n",
    "\n",
    "bk = BackgroundKnowledge(rules_arg = rules, facts_arg = facts)\n",
    "goal = \"fly\"\n",
    "positiveExamples = [\"a\", \"b\", \"e\", \"f\", \"g\", \"h\"]\n",
    "negativeExamples = [\"c\", \"d\", \"c1\", \"k\", \"m\"]\n",
    "\n",
    "predicateList = [\"bird\", \"penguin\", \"superpenguin\", \"cat\", \"plane\", \"damaged\"]\n",
    "\n",
    "ab_count = 0\n",
    "abnormalRules = []\n",
    "result = FOLD(positiveExamples, negativeExamples, predicateList, bk)\n",
    "\n",
    "prettyprint(result)"
   ]
  },
  {
   "cell_type": "markdown",
   "metadata": {},
   "source": [
    "### The intuitive set of rules is that all birds except penguins can fly with the exception that superpenguins can fly, and that all planes except damaged planes can fly. The output of the algorithm matches this intuitive set of rules."
   ]
  },
  {
   "cell_type": "markdown",
   "metadata": {},
   "source": [
    "## Example 4 - Blood donation compatibility"
   ]
  },
  {
   "cell_type": "markdown",
   "metadata": {},
   "source": [
    "### Setting up the knowledge base"
   ]
  },
  {
   "cell_type": "code",
   "execution_count": 29,
   "metadata": {
    "collapsed": true
   },
   "outputs": [],
   "source": [
    "rules = []\n",
    "\n",
    "fact1 = Fact(predicate_arg = \"O\", parameter_arg = \"p1\")\n",
    "fact2 = Fact(predicate_arg = \"O\", parameter_arg = \"p2\")\n",
    "fact3 = Fact(predicate_arg = \"O\", parameter_arg = \"p3\")\n",
    "fact4 = Fact(predicate_arg = \"O\", parameter_arg = \"p4\")\n",
    "\n",
    "fact1_1 = Fact(predicate_arg = \"rh+\", parameter_arg = \"p1\")\n",
    "fact2_1 = Fact(predicate_arg = \"rh+\", parameter_arg = \"p2\")\n",
    "fact3_1 = Fact(predicate_arg = \"rh+\", parameter_arg = \"p3\")\n",
    "fact4_1 = Fact(predicate_arg = \"rh+\", parameter_arg = \"p4\")\n",
    "\n",
    "fact5 = Fact(predicate_arg = \"O\", parameter_arg = \"p5\")\n",
    "fact6 = Fact(predicate_arg = \"O\", parameter_arg = \"p6\")\n",
    "fact7 = Fact(predicate_arg = \"O\", parameter_arg = \"p7\")\n",
    "fact8 = Fact(predicate_arg = \"O\", parameter_arg = \"p8\")\n",
    "\n",
    "fact5_1 = Fact(predicate_arg = \"rh-\", parameter_arg = \"p5\")\n",
    "fact6_1 = Fact(predicate_arg = \"rh-\", parameter_arg = \"p6\")\n",
    "fact7_1 = Fact(predicate_arg = \"rh-\", parameter_arg = \"p7\")\n",
    "fact8_1 = Fact(predicate_arg = \"rh-\", parameter_arg = \"p8\")\n",
    "\n",
    "fact9 = Fact(predicate_arg = \"A\", parameter_arg = \"p9\")\n",
    "fact10 = Fact(predicate_arg = \"A\", parameter_arg = \"p10\")\n",
    "fact11 = Fact(predicate_arg = \"A\", parameter_arg = \"p11\")\n",
    "fact12 = Fact(predicate_arg = \"A\", parameter_arg = \"p12\")\n",
    "\n",
    "fact9_1 = Fact(predicate_arg = \"rh+\", parameter_arg = \"p9\")\n",
    "fact10_1 = Fact(predicate_arg = \"rh+\", parameter_arg = \"p10\")\n",
    "fact11_1 = Fact(predicate_arg = \"rh+\", parameter_arg = \"p11\")\n",
    "fact12_1 = Fact(predicate_arg = \"rh+\", parameter_arg = \"p12\")\n",
    "\n",
    "fact13 = Fact(predicate_arg = \"A\", parameter_arg = \"p13\")\n",
    "fact14 = Fact(predicate_arg = \"A\", parameter_arg = \"p14\")\n",
    "fact15 = Fact(predicate_arg = \"A\", parameter_arg = \"p15\")\n",
    "fact16 = Fact(predicate_arg = \"A\", parameter_arg = \"p16\")\n",
    "\n",
    "fact13_1 = Fact(predicate_arg = \"rh-\", parameter_arg = \"p13\")\n",
    "fact14_1 = Fact(predicate_arg = \"rh-\", parameter_arg = \"p14\")\n",
    "fact15_1 = Fact(predicate_arg = \"rh-\", parameter_arg = \"p15\")\n",
    "fact16_1 = Fact(predicate_arg = \"rh-\", parameter_arg = \"p16\")\n",
    "\n",
    "fact17 = Fact(predicate_arg = \"B\", parameter_arg = \"p17\")\n",
    "fact18 = Fact(predicate_arg = \"B\", parameter_arg = \"p18\")\n",
    "fact19 = Fact(predicate_arg = \"B\", parameter_arg = \"p19\")\n",
    "fact20 = Fact(predicate_arg = \"B\", parameter_arg = \"p20\")\n",
    "\n",
    "fact17_1 = Fact(predicate_arg = \"rh+\", parameter_arg = \"p17\")\n",
    "fact18_1 = Fact(predicate_arg = \"rh+\", parameter_arg = \"p18\")\n",
    "fact19_1 = Fact(predicate_arg = \"rh+\", parameter_arg = \"p19\")\n",
    "fact20_1 = Fact(predicate_arg = \"rh+\", parameter_arg = \"p20\")\n",
    "\n",
    "fact21 = Fact(predicate_arg = \"B\", parameter_arg = \"p21\")\n",
    "fact22 = Fact(predicate_arg = \"B\", parameter_arg = \"p22\")\n",
    "fact23 = Fact(predicate_arg = \"B\", parameter_arg = \"p23\")\n",
    "fact24 = Fact(predicate_arg = \"B\", parameter_arg = \"p24\")\n",
    "\n",
    "fact21_1 = Fact(predicate_arg = \"rh-\", parameter_arg = \"p21\")\n",
    "fact22_1 = Fact(predicate_arg = \"rh-\", parameter_arg = \"p22\")\n",
    "fact23_1 = Fact(predicate_arg = \"rh-\", parameter_arg = \"p23\")\n",
    "fact24_1 = Fact(predicate_arg = \"rh-\", parameter_arg = \"p24\")\n",
    "\n",
    "fact25 = Fact(predicate_arg = \"AB\", parameter_arg = \"p25\")\n",
    "fact26 = Fact(predicate_arg = \"AB\", parameter_arg = \"p26\")\n",
    "fact27 = Fact(predicate_arg = \"AB\", parameter_arg = \"p27\")\n",
    "fact28 = Fact(predicate_arg = \"AB\", parameter_arg = \"p28\")\n",
    "\n",
    "fact25_1 = Fact(predicate_arg = \"rh+\", parameter_arg = \"p25\")\n",
    "fact26_1 = Fact(predicate_arg = \"rh+\", parameter_arg = \"p26\")\n",
    "fact27_1 = Fact(predicate_arg = \"rh+\", parameter_arg = \"p27\")\n",
    "fact28_1 = Fact(predicate_arg = \"rh+\", parameter_arg = \"p28\")\n",
    "\n",
    "fact29 = Fact(predicate_arg = \"AB\", parameter_arg = \"p29\")\n",
    "fact30 = Fact(predicate_arg = \"AB\", parameter_arg = \"p30\")\n",
    "fact31 = Fact(predicate_arg = \"AB\", parameter_arg = \"p31\")\n",
    "fact32 = Fact(predicate_arg = \"AB\", parameter_arg = \"p32\")\n",
    "\n",
    "fact29_1 = Fact(predicate_arg = \"rh-\", parameter_arg = \"p29\")\n",
    "fact30_1 = Fact(predicate_arg = \"rh-\", parameter_arg = \"p30\")\n",
    "fact31_1 = Fact(predicate_arg = \"rh-\", parameter_arg = \"p31\")\n",
    "fact32_1 = Fact(predicate_arg = \"rh-\", parameter_arg = \"p32\")\n",
    "\n",
    "facts = [fact1, fact2, fact3, fact4, fact5, fact6, fact7, fact8, fact9, fact10, fact11, fact12, fact13, fact14, fact15, fact16, fact17, fact18, fact19, fact20, fact21, fact22, fact23, fact24, fact25, fact26, fact27, fact28, fact29, fact30, fact31, fact32, fact1_1, fact2_1, fact3_1, fact4_1, fact5_1, fact6_1, fact7_1, fact8_1, fact9_1, fact10_1, fact11_1, fact12_1, fact13_1, fact14_1, fact15_1, fact16_1, fact17_1, fact18_1, fact19_1, fact20_1, fact21_1, fact22_1, fact23_1, fact24_1, fact25_1, fact26_1, fact27_1, fact28_1, fact29_1, fact30_1, fact31_1, fact32_1]\n",
    "\n",
    "bk = BackgroundKnowledge(rules_arg = rules, facts_arg = facts)\n",
    "\n",
    "predicateList = [\"O\", \"A\", \"B\", \"AB\", \"rh+\", \"rh-\"]"
   ]
  },
  {
   "cell_type": "markdown",
   "metadata": {},
   "source": [
    "### Who can donate to O+?"
   ]
  },
  {
   "cell_type": "code",
   "execution_count": 16,
   "metadata": {},
   "outputs": [
    {
     "name": "stdout",
     "output_type": "stream",
     "text": [
      "donatestoO+(X) <- O(X) \n"
     ]
    }
   ],
   "source": [
    "goal = \"donatestoO+\"\n",
    "positiveExamples = [\"p1\", \"p2\", \"p3\", \"p4\", \"p5\", \"p6\", \"p7\", \"p8\"]\n",
    "negativeExamples = [\"p9\", \"p10\", \"p11\", \"p12\", \"p13\", \"p14\", \"p15\", \"p16\", \"p17\", \"p18\", \"p19\", \"p20\", \"p21\", \"p22\", \"p23\", \"p24\", \"p25\", \"p26\", \"p27\", \"p28\", \"p29\", \"p30\", \"p31\", \"p32\"]\n",
    "\n",
    "ab_count = 0\n",
    "abnormalRules = []\n",
    "result = FOLD(positiveExamples, negativeExamples, predicateList, bk)\n",
    "\n",
    "prettyprint(result)"
   ]
  },
  {
   "cell_type": "markdown",
   "metadata": {},
   "source": [
    "#### The expected set of rules is that only people with blood group O can donate to people with blood group O+. The output of the algorithm matches this expected set of rules."
   ]
  },
  {
   "cell_type": "markdown",
   "metadata": {},
   "source": [
    "### Who can donate to O-?"
   ]
  },
  {
   "cell_type": "code",
   "execution_count": 18,
   "metadata": {},
   "outputs": [
    {
     "name": "stdout",
     "output_type": "stream",
     "text": [
      "donatestoO-(X) <- O(X) , not ab0(X) \n",
      "ab0(X) <- rh+(X) \n"
     ]
    }
   ],
   "source": [
    "goal = \"donatestoO-\"\n",
    "positiveExamples = [\"p5\", \"p6\", \"p7\", \"p8\"]\n",
    "negativeExamples = [\"p1\", \"p2\", \"p3\", \"p4\", \"p9\", \"p10\", \"p11\", \"p12\", \"p13\", \"p14\", \"p15\", \"p16\", \"p17\", \"p18\", \"p19\", \"p20\", \"p21\", \"p22\", \"p23\", \"p24\", \"p25\", \"p26\", \"p27\", \"p28\", \"p29\", \"p30\", \"p31\", \"p32\"]\n",
    "\n",
    "ab_count = 0\n",
    "abnormalRules = []\n",
    "result = FOLD(positiveExamples, negativeExamples, predicateList, bk)\n",
    "\n",
    "prettyprint(result)"
   ]
  },
  {
   "cell_type": "markdown",
   "metadata": {},
   "source": [
    "#### The expected set of rules is that only people with blood group O- can donate to people with blood group O-. The output of the algorithm matches this expected set of rules."
   ]
  },
  {
   "cell_type": "markdown",
   "metadata": {},
   "source": [
    "### Who can donate to B+?"
   ]
  },
  {
   "cell_type": "code",
   "execution_count": 20,
   "metadata": {},
   "outputs": [
    {
     "name": "stdout",
     "output_type": "stream",
     "text": [
      "donatestoB+(X) <- B(X) \n",
      "donatestoB+(X) <- O(X) \n"
     ]
    }
   ],
   "source": [
    "goal = \"donatestoB+\"\n",
    "positiveExamples = [\"p1\", \"p2\", \"p3\", \"p4\", \"p5\", \"p6\", \"p7\", \"p8\", \"p17\", \"p18\", \"p19\", \"p20\", \"p21\", \"p22\", \"p23\", \"p24\"]\n",
    "negativeExamples = [\"p9\", \"p10\", \"p11\", \"p12\", \"p13\", \"p14\", \"p15\", \"p16\", \"p25\", \"p26\", \"p27\", \"p28\", \"p29\", \"p30\", \"p31\", \"p32\"]\n",
    "\n",
    "ab_count = 0\n",
    "abnormalRules = []\n",
    "result = FOLD(positiveExamples, negativeExamples, predicateList, bk)\n",
    "\n",
    "prettyprint(result)"
   ]
  },
  {
   "cell_type": "markdown",
   "metadata": {},
   "source": [
    "#### The expected set of rules is that people with blood group O and B can donate to people with blood group B+. The output of the algorithm matches this expected set of rules."
   ]
  },
  {
   "cell_type": "markdown",
   "metadata": {},
   "source": [
    "### Who can donate to B-?"
   ]
  },
  {
   "cell_type": "code",
   "execution_count": 22,
   "metadata": {},
   "outputs": [
    {
     "name": "stdout",
     "output_type": "stream",
     "text": [
      "donatestoB-(X) <- rh-(X) , not ab0(X) \n",
      "ab0(X) <- A(X) \n",
      "ab0(X) <- AB(X) \n"
     ]
    }
   ],
   "source": [
    "goal = \"donatestoB-\"\n",
    "positiveExamples = [\"p5\", \"p6\", \"p7\", \"p8\", \"p21\", \"p22\", \"p23\", \"p24\"]\n",
    "negativeExamples = [\"p1\", \"p2\", \"p3\", \"p4\", \"p9\", \"p10\", \"p11\", \"p12\", \"p13\", \"p14\", \"p15\", \"p16\", \"p17\", \"p18\", \"p19\", \"p20\", \"p25\", \"p26\", \"p27\", \"p28\", \"p29\", \"p30\", \"p31\", \"p32\"]\n",
    "\n",
    "ab_count = 0\n",
    "abnormalRules = []\n",
    "result = FOLD(positiveExamples, negativeExamples, predicateList, bk)\n",
    " \n",
    "prettyprint(result)"
   ]
  },
  {
   "cell_type": "markdown",
   "metadata": {},
   "source": [
    "#### The expected set of rules is that only people with blood group O- and B- can donate to people with blood group O+. The output of the algorithm matches this expected set of rules."
   ]
  },
  {
   "cell_type": "markdown",
   "metadata": {},
   "source": [
    "### Who can donate to A+?"
   ]
  },
  {
   "cell_type": "code",
   "execution_count": 24,
   "metadata": {},
   "outputs": [
    {
     "name": "stdout",
     "output_type": "stream",
     "text": [
      "donatestoA+(X) <- A(X) \n",
      "donatestoA+(X) <- O(X) \n"
     ]
    }
   ],
   "source": [
    "goal = \"donatestoA+\"\n",
    "positiveExamples = [\"p1\", \"p2\", \"p3\", \"p4\", \"p5\", \"p6\", \"p7\", \"p8\", \"p9\", \"p10\", \"p11\", \"p12\", \"p13\", \"p14\", \"p15\", \"p16\"]\n",
    "negativeExamples = [\"p17\", \"p18\", \"p19\", \"p20\", \"p21\", \"p22\", \"p23\", \"p24\", \"p25\", \"p26\", \"p27\", \"p28\", \"p29\", \"p30\", \"p31\", \"p32\"]\n",
    "\n",
    "ab_count = 0\n",
    "abnormalRules = []\n",
    "result = FOLD(positiveExamples, negativeExamples, predicateList, bk)\n",
    " \n",
    "prettyprint(result)"
   ]
  },
  {
   "cell_type": "markdown",
   "metadata": {},
   "source": [
    "#### The expected set of rules is that people with blood group O and A can donate to people with blood group A+. The output of the algorithm matches this expected set of rules."
   ]
  },
  {
   "cell_type": "markdown",
   "metadata": {},
   "source": [
    "### Who can donate to A-?"
   ]
  },
  {
   "cell_type": "code",
   "execution_count": 26,
   "metadata": {},
   "outputs": [
    {
     "name": "stdout",
     "output_type": "stream",
     "text": [
      "donatestoA-(X) <- rh-(X) , not ab0(X) \n",
      "ab0(X) <- B(X) \n",
      "ab0(X) <- AB(X) \n"
     ]
    }
   ],
   "source": [
    "goal = \"donatestoA-\"\n",
    "positiveExamples = [\"p5\", \"p6\", \"p7\", \"p8\", \"p13\", \"p14\", \"p15\", \"p16\"]\n",
    "negativeExamples = [\"p1\", \"p2\", \"p3\", \"p4\", \"p9\", \"p10\", \"p11\", \"p12\", \"p17\", \"p18\", \"p19\", \"p20\", \"p21\", \"p22\", \"p23\", \"p24\", \"p25\", \"p26\", \"p27\", \"p28\", \"p29\", \"p30\", \"p31\", \"p32\"]\n",
    "\n",
    "ab_count = 0\n",
    "abnormalRules = []\n",
    "result = FOLD(positiveExamples, negativeExamples, predicateList, bk)\n",
    " \n",
    "prettyprint(result)"
   ]
  },
  {
   "cell_type": "markdown",
   "metadata": {},
   "source": [
    "#### The expected set of rules is that people with blood group O- and A- can donate to people with blood group A-. The output of the algorithm matches the expected output."
   ]
  },
  {
   "cell_type": "markdown",
   "metadata": {},
   "source": [
    "### Who can donate to AB+?"
   ]
  },
  {
   "cell_type": "code",
   "execution_count": 28,
   "metadata": {},
   "outputs": [
    {
     "name": "stdout",
     "output_type": "stream",
     "text": [
      "donatestoAB+(X) <- A(X) \n",
      "donatestoAB+(X) <- rh-(X) \n",
      "donatestoAB+(X) <- rh+(X) \n"
     ]
    }
   ],
   "source": [
    "goal = \"donatestoAB+\"\n",
    "positiveExamples = [\"p1\", \"p2\", \"p3\", \"p4\", \"p5\", \"p6\", \"p7\", \"p8\", \"p9\", \"p10\", \"p11\", \"p12\", \"p13\", \"p14\", \"p15\", \"p16\", \"p17\", \"p18\", \"p19\", \"p20\", \"p21\", \"p22\", \"p23\", \"p24\", \"p25\", \"p26\", \"p27\", \"p28\", \"p29\", \"p30\", \"p31\", \"p32\"]\n",
    "negativeExamples = []\n",
    "ab_count = 0\n",
    "abnormalRules = []\n",
    "result = FOLD(positiveExamples, negativeExamples, predicateList, bk)\n",
    " \n",
    "prettyprint(result)"
   ]
  },
  {
   "cell_type": "markdown",
   "metadata": {},
   "source": [
    "#### The expected set of rules is that anybody can donate to people with blood group AB+. The output of the algorithm is that a person can donate blood to someone with blood group is A, or if their Rh factor is positive, or if their Rh factor is negative. Although this set of rules is correct, it is not minimal. Simply \"donatestoAB+ :- True\" would suffice."
   ]
  },
  {
   "cell_type": "markdown",
   "metadata": {},
   "source": [
    "### Who can donate to AB-?"
   ]
  },
  {
   "cell_type": "code",
   "execution_count": 30,
   "metadata": {},
   "outputs": [
    {
     "name": "stdout",
     "output_type": "stream",
     "text": [
      "donatestoAB-(X) <- rh-(X) \n"
     ]
    }
   ],
   "source": [
    "goal = \"donatestoAB-\"\n",
    "positiveExamples = [\"p5\", \"p6\", \"p7\", \"p8\", \"p13\", \"p14\", \"p15\", \"p16\", \"p21\", \"p22\", \"p23\", \"p24\", \"p29\", \"p30\", \"p31\", \"p32\"]\n",
    "negativeExamples = [\"p1\", \"p2\", \"p3\", \"p4\", \"p9\", \"p10\", \"p11\", \"p12\", \"p17\", \"p18\", \"p19\", \"p20\", \"p25\", \"p26\", \"p27\", \"p28\"]\n",
    "ab_count = 0\n",
    "abnormalRules = []\n",
    "result = FOLD(positiveExamples, negativeExamples, predicateList, bk)\n",
    " \n",
    "prettyprint(result)"
   ]
  },
  {
   "cell_type": "markdown",
   "metadata": {},
   "source": [
    "#### The expected set of rules is that anyone with Rh factor negative can donate to AB-. The output of the algorithm matches the expected output."
   ]
  },
  {
   "cell_type": "markdown",
   "metadata": {},
   "source": [
    "## Example 5 - Nested exception"
   ]
  },
  {
   "cell_type": "code",
   "execution_count": 31,
   "metadata": {},
   "outputs": [
    {
     "name": "stdout",
     "output_type": "stream",
     "text": [
      "dies(X) <- marrowincompatible(X) \n",
      "dies(X) <- bloodcancer(X) , not ab0(X) \n",
      "ab0(X) <- marrowdonated(X) \n"
     ]
    }
   ],
   "source": [
    "rules = []\n",
    "fact1 = Fact(predicate_arg = \"bloodcancer\", parameter_arg = \"patient1\")\n",
    "fact2 = Fact(predicate_arg = \"marrowdonated\", parameter_arg = \"patient1\")\n",
    "fact3 = Fact(predicate_arg = \"marrowincompatible\", parameter_arg = \"patient1\")\n",
    "\n",
    "fact4 = Fact(predicate_arg = \"bloodcancer\", parameter_arg = \"patient2\")\n",
    "\n",
    "fact5 = Fact(predicate_arg = \"bloodcancer\", parameter_arg = \"patient3\")\n",
    "fact6 = Fact(predicate_arg = \"marrowdonated\", parameter_arg = \"patient3\")\n",
    "\n",
    "facts = [fact1, fact2, fact3, fact4, fact5, fact6]\n",
    "\n",
    "bk = BackgroundKnowledge(rules_arg = rules, facts_arg = facts)\n",
    "goal = \"dies\"\n",
    "positiveExamples = [\"patient1\", \"patient2\"]\n",
    "negativeExamples = [\"patient3\"]\n",
    "\n",
    "predicateList = [\"bloodcancer\", \"marrowdonated\", \"marrowincompatible\"]\n",
    "\n",
    "ab_count = 0\n",
    "abnormalRules = []\n",
    "result = FOLD(positiveExamples, negativeExamples, predicateList, bk)\n",
    "\n",
    "prettyprint(result)"
   ]
  },
  {
   "cell_type": "markdown",
   "metadata": {},
   "source": [
    "#### The expected set of rules is that a person who has blood cancer will die, with the exception that someone has donated bone marrow to him. However, he will also die if the marrow donated is incompatible. The output of the algorithm matches the expected output."
   ]
  },
  {
   "cell_type": "markdown",
   "metadata": {},
   "source": [
    "## Example 6 - Nested exception"
   ]
  },
  {
   "cell_type": "code",
   "execution_count": 32,
   "metadata": {},
   "outputs": [
    {
     "name": "stdout",
     "output_type": "stream",
     "text": [
      "accepted(X) <- personaldifficulty(X) \n",
      "accepted(X) <- brilliant(X) \n",
      "accepted(X) <- graduated(X) , not ab0(X) \n",
      "ab0(X) <- lessGPA(X) \n"
     ]
    }
   ],
   "source": [
    "rule1 = Rule(head_arg = \"givesinterview\", body_arg = [\"graduated\"])\n",
    "rules = [rule1]\n",
    "\n",
    "fact1 = Fact(predicate_arg = \"graduated\", parameter_arg = \"alice\")\n",
    "fact2 = Fact(predicate_arg = \"graduated\", parameter_arg = \"bob\")\n",
    "fact3 = Fact(predicate_arg = \"graduated\", parameter_arg = \"charlie\")\n",
    "fact4 = Fact(predicate_arg = \"graduated\", parameter_arg = \"devon\")\n",
    "\n",
    "fact5 = Fact(predicate_arg = \"lessGPA\", parameter_arg = \"alice\")\n",
    "fact6 = Fact(predicate_arg = \"lessGPA\", parameter_arg = \"bob\")\n",
    "fact7 = Fact(predicate_arg = \"lessGPA\", parameter_arg = \"charlie\")\n",
    "\n",
    "fact8 = Fact(predicate_arg = \"personaldifficulty\", parameter_arg = \"alice\")\n",
    "fact9 = Fact(predicate_arg = \"personaldifficulty\", parameter_arg = \"bob\")\n",
    "\n",
    "fact10 = Fact(predicate_arg = \"givesinterview\", parameter_arg = \"frank\")\n",
    "fact11 = Fact(predicate_arg = \"givesinterview\", parameter_arg = \"george\")\n",
    "\n",
    "fact12 = Fact(predicate_arg = \"brilliant\", parameter_arg = \"frank\")\n",
    "\n",
    "facts = [fact1, fact2, fact3, fact4, fact5, fact6, fact7, fact8, fact9, fact10, fact11, fact12]\n",
    "\n",
    "bk = BackgroundKnowledge(rules_arg = rules, facts_arg = facts)\n",
    "goal = \"accepted\"\n",
    "positiveExamples = [\"alice\", \"bob\", \"devon\", \"frank\"]\n",
    "negativeExamples = [\"charlie\", \"george\"]\n",
    "\n",
    "predicateList = [\"givesinterview\", \"graduated\", \"lessGPA\", \"personaldifficulty\", \"brilliant\"]\n",
    "\n",
    "ab_count = 0\n",
    "abnormalRules = []\n",
    "result = FOLD(positiveExamples, negativeExamples, predicateList, bk)\n",
    "\n",
    "prettyprint(result)"
   ]
  },
  {
   "cell_type": "markdown",
   "metadata": {},
   "source": [
    "#### The expected set of rules is that a person who has graduated but has a low GPA will be rejected, unless his/her GPA has dropped because of personal difficulties. Also, if a person has not graduated but is brilliant, he/she will be accepted."
   ]
  }
 ],
 "metadata": {
  "kernelspec": {
   "display_name": "Python 2",
   "language": "python",
   "name": "python2"
  },
  "language_info": {
   "codemirror_mode": {
    "name": "ipython",
    "version": 2
   },
   "file_extension": ".py",
   "mimetype": "text/x-python",
   "name": "python",
   "nbconvert_exporter": "python",
   "pygments_lexer": "ipython2",
   "version": "2.7.14"
  }
 },
 "nbformat": 4,
 "nbformat_minor": 2
}
